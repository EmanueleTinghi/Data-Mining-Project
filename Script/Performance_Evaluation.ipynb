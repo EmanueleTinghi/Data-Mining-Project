{
 "cells": [
  {
   "cell_type": "code",
   "execution_count": 103,
   "metadata": {},
   "outputs": [],
   "source": [
    "import pandas as pd\n",
    "import numpy as np\n",
    "from sklearn.pipeline import Pipeline\n",
    "from sklearn.tree import _tree\n",
    "from sklearn.preprocessing import RobustScaler\n",
    "from sklearn.ensemble import AdaBoostClassifier\n",
    "from sklearn.ensemble import RandomForestClassifier\n",
    "from sklearn.neighbors import KNeighborsClassifier\n",
    "from sklearn.feature_selection import SelectKBest\n",
    "from sklearn.model_selection import LeaveOneGroupOut, cross_validate\n",
    "from sklearn.metrics import accuracy_score, f1_score, make_scorer, confusion_matrix\n",
    "from scipy.stats import wilcoxon\n",
    "from matplotlib import pyplot as plt"
   ]
  },
  {
   "cell_type": "markdown",
   "metadata": {},
   "source": [
    "---\n",
    "__UTILITY FUNCTIONS__\n",
    "\n",
    "---"
   ]
  },
  {
   "cell_type": "code",
   "execution_count": 8,
   "metadata": {},
   "outputs": [],
   "source": [
    "#converts tree in a readable list of rules \n",
    "def tree_to_code(tree, feature_names):\n",
    "    tree_ = tree.tree_\n",
    "    feature_name = [\n",
    "        feature_names[i] if i != _tree.TREE_UNDEFINED else \"undefined!\"\n",
    "        for i in tree_.feature\n",
    "    ]\n",
    "    print(\"def tree({}):\".format(\", \".join(feature_names)))\n",
    "\n",
    "    def recurse(node, depth):\n",
    "        indent = \"  \" * depth\n",
    "        if tree_.feature[node] != _tree.TREE_UNDEFINED:\n",
    "            name = feature_name[node]\n",
    "            threshold = tree_.threshold[node]\n",
    "            print(\"{}if {} <= {}:\".format(indent, name, threshold))\n",
    "            recurse(tree_.children_left[node], depth + 1)\n",
    "            print(\"{}elif {} > {}\".format(indent, name, threshold))\n",
    "            recurse(tree_.children_right[node], depth + 1)\n",
    "        else:\n",
    "            print(\"{}return {}\".format(indent, np.argmax(tree_.value[node])))\n",
    "\n",
    "    recurse(0, 1)"
   ]
  },
  {
   "cell_type": "code",
   "execution_count": 32,
   "metadata": {},
   "outputs": [],
   "source": [
    "def scatter_plot(df, var1, var2, tester):\n",
    "    x = df[var1]\n",
    "    y = df[var2]\n",
    "    classes = df['Class']\n",
    "\n",
    "    map = {0.0: 'Left', 1.0: 'Centered', 2.0: 'Right'}\n",
    "\n",
    "    # Replace values in the array\n",
    "    string_array = np.where(np.isin(classes, list(map.keys())), [map[val] for val in classes], classes)\n",
    "\n",
    "    unique = list(set(string_array))\n",
    "    \n",
    "    # Assign colors based on unique values\n",
    "    colors = plt.cm.get_cmap('jet', len(unique))\n",
    "\n",
    "    for i, u in enumerate(unique):\n",
    "        xi = [x[j] for j in range(len(x)) if string_array[j] == u]\n",
    "        yi = [y[j] for j in range(len(x)) if string_array[j] == u]\n",
    "        plt.scatter(xi, yi, c=[colors(i)], label=str(u))\n",
    "\n",
    "    plt.xlabel(var1)  # Fix: 'set_xlabel' should be 'xlabel'\n",
    "    plt.ylabel(var2)  # Fix: 'set_ylabel' should be 'ylabel'\n",
    "\n",
    "    plt.title(str(tester))\n",
    "\n",
    "    plt.legend()\n",
    "    plt.show()"
   ]
  },
  {
   "cell_type": "markdown",
   "metadata": {},
   "source": [
    "---\n",
    "__DATA LOADING__\n",
    "\n",
    "---"
   ]
  },
  {
   "cell_type": "code",
   "execution_count": 10,
   "metadata": {},
   "outputs": [
    {
     "name": "stdout",
     "output_type": "stream",
     "text": [
      "(868, 13)\n",
      "(868,)\n",
      "(868,)\n",
      "0       Lorenzo\n",
      "272         Leo\n",
      "450       Irene\n",
      "635    Carlotta\n",
      "Name: Tester, dtype: object\n"
     ]
    }
   ],
   "source": [
    "Lorenzo = pd.read_csv(\"./../Dati_unificati/lorenzo_smooth.csv\")\n",
    "Leo = pd.read_csv(\"./../Dati_unificati/leo_smooth.csv\")\n",
    "Irene = pd.read_csv(\"./../Dati_unificati/irene_smooth.csv\")\n",
    "Carlotta = pd.read_csv(\"./../Dati_unificati/carlotta_smooth.csv\")\n",
    "\n",
    "ds = pd.concat([Lorenzo, Leo, Irene, Carlotta], ignore_index=True)\n",
    "\n",
    "X = ds.drop(columns=['Class', 'Tester'])\n",
    "y = ds['Class']\n",
    "groups = ds['Tester']\n",
    "print(X.shape)\n",
    "print(y.shape)\n",
    "print(groups.shape)\n",
    "\n",
    "print(groups.drop_duplicates())\n",
    "\n",
    "loso_cv = LeaveOneGroupOut()"
   ]
  },
  {
   "cell_type": "markdown",
   "metadata": {},
   "source": [
    "---\n",
    "__KNN__\n",
    "\n",
    "---"
   ]
  },
  {
   "cell_type": "code",
   "execution_count": 11,
   "metadata": {},
   "outputs": [
    {
     "name": "stdout",
     "output_type": "stream",
     "text": [
      "     fit_time  score_time                                          estimator  \\\n",
      "0      0.0000    0.013126  (RobustScaler(), SelectKBest(k=2), KNeighborsC...   \n",
      "1      0.0022    0.000000  (RobustScaler(), SelectKBest(k=2), KNeighborsC...   \n",
      "2      0.0012    0.000000  (RobustScaler(), SelectKBest(k=2), KNeighborsC...   \n",
      "3      0.0000    0.013126  (RobustScaler(), SelectKBest(k=2), KNeighborsC...   \n",
      "4      0.0000    0.016885  (RobustScaler(), SelectKBest(k=2), KNeighborsC...   \n",
      "..        ...         ...                                                ...   \n",
      "795    0.0000    0.000000  (RobustScaler(), SelectKBest(k=2), KNeighborsC...   \n",
      "796    0.0000    0.000000  (RobustScaler(), SelectKBest(k=2), KNeighborsC...   \n",
      "797    0.0000    0.000000  (RobustScaler(), SelectKBest(k=2), KNeighborsC...   \n",
      "798    0.0000    0.000000  (RobustScaler(), SelectKBest(k=2), KNeighborsC...   \n",
      "799    0.0000    0.000000  (RobustScaler(), SelectKBest(k=2), KNeighborsC...   \n",
      "\n",
      "     test_fscore  test_accuracy  \n",
      "0       0.781168       0.789700  \n",
      "1       0.535884       0.654054  \n",
      "2       1.000000       1.000000  \n",
      "3       0.578441       0.650735  \n",
      "4       0.781168       0.789700  \n",
      "..           ...            ...  \n",
      "795     0.578441       0.650735  \n",
      "796     0.781168       0.789700  \n",
      "797     0.535884       0.654054  \n",
      "798     1.000000       1.000000  \n",
      "799     0.578441       0.650735  \n",
      "\n",
      "[800 rows x 5 columns]\n"
     ]
    }
   ],
   "source": [
    "results_KNN = []\n",
    "\n",
    "#gives 800 values of test_fscore to be checked with Wilcoxon signed rank test\n",
    "for i in range(1, 201):    \n",
    "    classifier_KNN = KNeighborsClassifier(n_neighbors=6)\n",
    "    scaler = RobustScaler()\n",
    "    feat_sel = SelectKBest(k=2)\n",
    "\n",
    "    estimators_KNN = [('scaling', scaler), ('feature-selection', feat_sel), ('clf', classifier_KNN)]\n",
    "    pipe_KNN = Pipeline(estimators_KNN)\n",
    "\n",
    "    scores_KNN = cross_validate(pipe_KNN,\n",
    "                                X,\n",
    "                                y,\n",
    "                                return_estimator=True,\n",
    "                                cv=loso_cv,\n",
    "                                n_jobs=-1,\n",
    "                                groups=groups,\n",
    "                                error_score=\"raise\",\n",
    "                                scoring={'fscore': make_scorer(f1_score, average='weighted'),\n",
    "                                            'accuracy': make_scorer(accuracy_score)}\n",
    "                                )\n",
    "    results_KNN.append(pd.DataFrame(scores_KNN))\n",
    "\n",
    "# Concatenate results outside the loop\n",
    "final_results_KNN = pd.concat(results_KNN, ignore_index=True)\n",
    "\n",
    "print(final_results_KNN)"
   ]
  },
  {
   "cell_type": "markdown",
   "metadata": {},
   "source": [
    "---\n",
    "__RANDOM FOREST__\n",
    "\n",
    "---"
   ]
  },
  {
   "cell_type": "code",
   "execution_count": 12,
   "metadata": {},
   "outputs": [
    {
     "name": "stdout",
     "output_type": "stream",
     "text": [
      "     fit_time  score_time                                          estimator  \\\n",
      "0    0.070119    0.005527  (RobustScaler(), SelectKBest(k=2), (DecisionTr...   \n",
      "1    0.064115    0.000000  (RobustScaler(), SelectKBest(k=2), (DecisionTr...   \n",
      "2    0.064115    0.007005  (RobustScaler(), SelectKBest(k=2), (DecisionTr...   \n",
      "3    0.070119    0.005527  (RobustScaler(), SelectKBest(k=2), (DecisionTr...   \n",
      "4    0.064743    0.003377  (RobustScaler(), SelectKBest(k=2), (DecisionTr...   \n",
      "..        ...         ...                                                ...   \n",
      "795  0.053800    0.000000  (RobustScaler(), SelectKBest(k=2), (DecisionTr...   \n",
      "796  0.047124    0.010552  (RobustScaler(), SelectKBest(k=2), (DecisionTr...   \n",
      "797  0.057676    0.005044  (RobustScaler(), SelectKBest(k=2), (DecisionTr...   \n",
      "798  0.047124    0.010552  (RobustScaler(), SelectKBest(k=2), (DecisionTr...   \n",
      "799  0.057676    0.000000  (RobustScaler(), SelectKBest(k=2), (DecisionTr...   \n",
      "\n",
      "     test_fscore  test_accuracy  \n",
      "0       1.000000       1.000000  \n",
      "1       0.535884       0.654054  \n",
      "2       0.924784       0.926966  \n",
      "3       0.525434       0.558824  \n",
      "4       1.000000       1.000000  \n",
      "..           ...            ...  \n",
      "795     0.561111       0.628676  \n",
      "796     1.000000       1.000000  \n",
      "797     0.546976       0.654054  \n",
      "798     0.924784       0.926966  \n",
      "799     0.521025       0.551471  \n",
      "\n",
      "[800 rows x 5 columns]\n",
      "fit_time                                                  0.059801\n",
      "score_time                                                0.000212\n",
      "estimator        (RobustScaler(), SelectKBest(k=2), (DecisionTr...\n",
      "test_fscore                                               0.227321\n",
      "test_accuracy                                             0.348315\n",
      "Name: 54, dtype: object\n"
     ]
    }
   ],
   "source": [
    "results_RF = []  # List to store results\n",
    "\n",
    "#gives 800 values of test_fscore to be checked with Wilcoxon signed rank test\n",
    "for i in range(1, 201):\n",
    "    classifier_RF = RandomForestClassifier(n_estimators=61, min_samples_split=30, min_samples_leaf=1, max_features='sqrt', bootstrap=True, max_depth=10, random_state=i)\n",
    "    scaler = RobustScaler()\n",
    "    feat_sel = SelectKBest(k=2)\n",
    "    estimators_RF = [('scaling', scaler), ('feature-selection', feat_sel), ('clf', classifier_RF)]\n",
    "    pipe_RF = Pipeline(estimators_RF)\n",
    "\n",
    "    scores_RF = cross_validate(pipe_RF,\n",
    "                               X,\n",
    "                               y,\n",
    "                               return_estimator=True,\n",
    "                               cv=loso_cv,\n",
    "                               n_jobs=-1,\n",
    "                               groups=groups,\n",
    "                               error_score=\"raise\",\n",
    "                               scoring={'fscore': make_scorer(f1_score, average='weighted'),\n",
    "                                        'accuracy': make_scorer(accuracy_score)}\n",
    "                               )\n",
    "    \n",
    "    results_RF.append(pd.DataFrame(scores_RF))\n",
    "\n",
    "# Concatenate results outside the loop\n",
    "final_results_RF = pd.concat(results_RF, ignore_index=True)\n",
    "\n",
    "print(final_results_RF)\n",
    "print(final_results_RF.iloc[final_results_RF['test_fscore'].idxmin()])"
   ]
  },
  {
   "cell_type": "markdown",
   "metadata": {},
   "source": [
    "---\n",
    "__ADABOOST__\n",
    "\n",
    "---"
   ]
  },
  {
   "cell_type": "code",
   "execution_count": 13,
   "metadata": {},
   "outputs": [
    {
     "name": "stdout",
     "output_type": "stream",
     "text": [
      "     fit_time  score_time                                          estimator  \\\n",
      "0    0.067448    0.005000  (RobustScaler(), SelectKBest(k=2), ((DecisionT...   \n",
      "1    0.069331    0.005000  (RobustScaler(), SelectKBest(k=2), ((DecisionT...   \n",
      "2    0.064822    0.004000  (RobustScaler(), SelectKBest(k=2), ((DecisionT...   \n",
      "3    0.188660    0.015511  (RobustScaler(), SelectKBest(k=2), ((DecisionT...   \n",
      "4    0.053077    0.000000  (RobustScaler(), SelectKBest(k=2), ((DecisionT...   \n",
      "..        ...         ...                                                ...   \n",
      "795  0.066770    0.000000  (RobustScaler(), SelectKBest(k=2), ((DecisionT...   \n",
      "796  0.050057    0.016063  (RobustScaler(), SelectKBest(k=2), ((DecisionT...   \n",
      "797  0.066868    0.000000  (RobustScaler(), SelectKBest(k=2), ((DecisionT...   \n",
      "798  0.050057    0.016811  (RobustScaler(), SelectKBest(k=2), ((DecisionT...   \n",
      "799  0.050057    0.016811  (RobustScaler(), SelectKBest(k=2), ((DecisionT...   \n",
      "\n",
      "     test_fscore  test_accuracy  \n",
      "0       1.000000       1.000000  \n",
      "1       0.535884       0.654054  \n",
      "2       0.617237       0.719101  \n",
      "3       0.580163       0.647059  \n",
      "4       1.000000       1.000000  \n",
      "..           ...            ...  \n",
      "795     0.521025       0.551471  \n",
      "796     1.000000       1.000000  \n",
      "797     0.546976       0.654054  \n",
      "798     0.924784       0.926966  \n",
      "799     0.527018       0.562500  \n",
      "\n",
      "[800 rows x 5 columns]\n"
     ]
    }
   ],
   "source": [
    "results_AB = []\n",
    "\n",
    "#gives 800 values of test_fscore to be checked with Wilcoxon signed rank test\n",
    "for i in range(1,201):\n",
    "    classifier_AdaBoost = AdaBoostClassifier(estimator=RandomForestClassifier(n_estimators=61, min_samples_split=30, min_samples_leaf=1, max_features='sqrt', bootstrap=True, max_depth=10, random_state=i), n_estimators=83, random_state=i)\n",
    "    scaler = RobustScaler()\n",
    "    feat_sel = SelectKBest(k=2)\n",
    "\n",
    "    estimators_AdaBoost = [('scaling', scaler), ('feature-selection', feat_sel), ('clf', classifier_AdaBoost)]\n",
    "    pipe_AdaBoost = Pipeline(estimators_AdaBoost)\n",
    "\n",
    "    scores_AdaBoost = cross_validate(pipe_AdaBoost,\n",
    "                            X,\n",
    "                            y,\n",
    "                            return_estimator = True,\n",
    "                            cv = loso_cv,\n",
    "                            n_jobs=-1,\n",
    "                            groups=groups,\n",
    "                            error_score=\"raise\",\n",
    "                            scoring = {'fscore': make_scorer(f1_score, average='weighted'),\n",
    "                                        'accuracy': make_scorer(accuracy_score)}\n",
    "    )\n",
    "    results_AB.append(pd.DataFrame(scores_AdaBoost))\n",
    "    \n",
    "# Concatenate results outside the loop\n",
    "final_results_AdaBoost = pd.concat(results_AB, ignore_index=True)\n",
    "print(final_results_AdaBoost)"
   ]
  },
  {
   "cell_type": "markdown",
   "metadata": {},
   "source": [
    "---\n",
    "__PERFORMANCE EVALUATION__\n",
    "\n",
    "---"
   ]
  },
  {
   "cell_type": "code",
   "execution_count": 14,
   "metadata": {},
   "outputs": [
    {
     "data": {
      "text/html": [
       "<div>\n",
       "<style scoped>\n",
       "    .dataframe tbody tr th:only-of-type {\n",
       "        vertical-align: middle;\n",
       "    }\n",
       "\n",
       "    .dataframe tbody tr th {\n",
       "        vertical-align: top;\n",
       "    }\n",
       "\n",
       "    .dataframe thead th {\n",
       "        text-align: right;\n",
       "    }\n",
       "</style>\n",
       "<table border=\"1\" class=\"dataframe\">\n",
       "  <thead>\n",
       "    <tr style=\"text-align: right;\">\n",
       "      <th></th>\n",
       "      <th>KNN</th>\n",
       "      <th>RF</th>\n",
       "      <th>AB</th>\n",
       "    </tr>\n",
       "  </thead>\n",
       "  <tbody>\n",
       "    <tr>\n",
       "      <th>0</th>\n",
       "      <td>0.781168</td>\n",
       "      <td>1.000000</td>\n",
       "      <td>1.000000</td>\n",
       "    </tr>\n",
       "    <tr>\n",
       "      <th>1</th>\n",
       "      <td>0.535884</td>\n",
       "      <td>0.535884</td>\n",
       "      <td>0.535884</td>\n",
       "    </tr>\n",
       "    <tr>\n",
       "      <th>2</th>\n",
       "      <td>1.000000</td>\n",
       "      <td>0.924784</td>\n",
       "      <td>0.617237</td>\n",
       "    </tr>\n",
       "    <tr>\n",
       "      <th>3</th>\n",
       "      <td>0.578441</td>\n",
       "      <td>0.525434</td>\n",
       "      <td>0.580163</td>\n",
       "    </tr>\n",
       "    <tr>\n",
       "      <th>4</th>\n",
       "      <td>0.781168</td>\n",
       "      <td>1.000000</td>\n",
       "      <td>1.000000</td>\n",
       "    </tr>\n",
       "    <tr>\n",
       "      <th>...</th>\n",
       "      <td>...</td>\n",
       "      <td>...</td>\n",
       "      <td>...</td>\n",
       "    </tr>\n",
       "    <tr>\n",
       "      <th>795</th>\n",
       "      <td>0.578441</td>\n",
       "      <td>0.561111</td>\n",
       "      <td>0.521025</td>\n",
       "    </tr>\n",
       "    <tr>\n",
       "      <th>796</th>\n",
       "      <td>0.781168</td>\n",
       "      <td>1.000000</td>\n",
       "      <td>1.000000</td>\n",
       "    </tr>\n",
       "    <tr>\n",
       "      <th>797</th>\n",
       "      <td>0.535884</td>\n",
       "      <td>0.546976</td>\n",
       "      <td>0.546976</td>\n",
       "    </tr>\n",
       "    <tr>\n",
       "      <th>798</th>\n",
       "      <td>1.000000</td>\n",
       "      <td>0.924784</td>\n",
       "      <td>0.924784</td>\n",
       "    </tr>\n",
       "    <tr>\n",
       "      <th>799</th>\n",
       "      <td>0.578441</td>\n",
       "      <td>0.521025</td>\n",
       "      <td>0.527018</td>\n",
       "    </tr>\n",
       "  </tbody>\n",
       "</table>\n",
       "<p>800 rows × 3 columns</p>\n",
       "</div>"
      ],
      "text/plain": [
       "          KNN        RF        AB\n",
       "0    0.781168  1.000000  1.000000\n",
       "1    0.535884  0.535884  0.535884\n",
       "2    1.000000  0.924784  0.617237\n",
       "3    0.578441  0.525434  0.580163\n",
       "4    0.781168  1.000000  1.000000\n",
       "..        ...       ...       ...\n",
       "795  0.578441  0.561111  0.521025\n",
       "796  0.781168  1.000000  1.000000\n",
       "797  0.535884  0.546976  0.546976\n",
       "798  1.000000  0.924784  0.924784\n",
       "799  0.578441  0.521025  0.527018\n",
       "\n",
       "[800 rows x 3 columns]"
      ]
     },
     "execution_count": 14,
     "metadata": {},
     "output_type": "execute_result"
    }
   ],
   "source": [
    "metrics = pd.DataFrame({'KNN': final_results_KNN['test_fscore'],\n",
    "                        'RF': final_results_RF['test_fscore'],\n",
    "                        'AB': final_results_AdaBoost['test_fscore']})\n",
    "metrics"
   ]
  },
  {
   "cell_type": "code",
   "execution_count": 15,
   "metadata": {},
   "outputs": [
    {
     "data": {
      "image/png": "[encoded data removed]",
      "text/plain": [
       "<Figure size 300x300 with 1 Axes>"
      ]
     },
     "metadata": {},
     "output_type": "display_data"
    }
   ],
   "source": [
    "#boxplot of the results of the three models\n",
    "ax = metrics.boxplot(figsize = (3,3))\n",
    "ax.set_ylabel('f-score')\n",
    "plt.show()"
   ]
  },
  {
   "cell_type": "code",
   "execution_count": 18,
   "metadata": {},
   "outputs": [
    {
     "name": "stdout",
     "output_type": "stream",
     "text": [
      "WilcoxonResult(statistic=117480.0, pvalue=0.24425707217577175)\n"
     ]
    }
   ],
   "source": [
    "print(wilcoxon(metrics.KNN, metrics.RF))"
   ]
  },
  {
   "cell_type": "code",
   "execution_count": 19,
   "metadata": {},
   "outputs": [
    {
     "name": "stdout",
     "output_type": "stream",
     "text": [
      "WilcoxonResult(statistic=119782.0, pvalue=0.2921422599223621)\n"
     ]
    }
   ],
   "source": [
    "print(wilcoxon(metrics.KNN, metrics.AB))"
   ]
  },
  {
   "cell_type": "code",
   "execution_count": 16,
   "metadata": {},
   "outputs": [
    {
     "name": "stdout",
     "output_type": "stream",
     "text": [
      "WilcoxonResult(statistic=35309.5, pvalue=0.010948366589202542)\n"
     ]
    }
   ],
   "source": [
    "print(wilcoxon(metrics.RF, metrics.AB))"
   ]
  },
  {
   "cell_type": "code",
   "execution_count": 17,
   "metadata": {},
   "outputs": [
    {
     "name": "stdout",
     "output_type": "stream",
     "text": [
      "Mean of RF: 0.7258121441113926\n",
      "Mean of AB: 0.7355011494816601\n"
     ]
    }
   ],
   "source": [
    "print(\"Mean of RF: \" + str(np.mean(metrics.RF)))\n",
    "print(\"Mean of AB: \" + str(np.mean(metrics.AB)))"
   ]
  },
  {
   "cell_type": "markdown",
   "metadata": {},
   "source": [
    "---\n",
    "__TREE ANALYSIS OF ADABOOST__\n",
    "\n",
    "---"
   ]
  },
  {
   "cell_type": "code",
   "execution_count": 97,
   "metadata": {},
   "outputs": [
    {
     "name": "stdout",
     "output_type": "stream",
     "text": [
      "0.5551470588235294\n",
      "Index(['meanFreq_MaxS11', 'mean_S11DEG'], dtype='object')\n"
     ]
    }
   ],
   "source": [
    "#creates a classifier that tries to predict the tester with the worst performances to see why\n",
    "\n",
    "classifier_AdaBoost = AdaBoostClassifier(estimator=RandomForestClassifier(n_estimators=61, min_samples_split=30, min_samples_leaf=1, max_features='sqrt', bootstrap=True, max_depth=10), n_estimators=83, random_state=0)\n",
    "scaler = RobustScaler()\n",
    "feat_sel = SelectKBest(k=2)\n",
    "\n",
    "estimators_AdaBoost = [('scaling', scaler), ('feature-selection', feat_sel), ('clf', classifier_AdaBoost)]\n",
    "pipe_AdaBoost_tree = Pipeline(estimators_AdaBoost)\n",
    "\n",
    "X_train = ds[(ds['Tester'] != 'Lorenzo')].drop(columns=['Class', 'Tester'])\n",
    "X_test= ds[(ds['Tester'] == 'Lorenzo')].drop(columns=['Class', 'Tester'])\n",
    "\n",
    "y_train = ds[(ds['Tester'] != 'Lorenzo')]['Class']\n",
    "y_test= ds[(ds['Tester'] == 'Lorenzo')]['Class']\n",
    "\n",
    "pipe_AdaBoost_tree.fit(X_train, y_train)\n",
    "y_pred = pipe_AdaBoost_tree.predict(X_test)\n",
    "\n",
    "print(accuracy_score(y_pred, y_test))\n",
    "\n",
    "#the selected k=2 best feature chosen by the model\n",
    "print(X.columns[pipe_AdaBoost_tree['feature-selection'].get_support()])"
   ]
  },
  {
   "cell_type": "code",
   "execution_count": 98,
   "metadata": {},
   "outputs": [
    {
     "name": "stdout",
     "output_type": "stream",
     "text": [
      "def tree(meanFreq_MaxS11, mean_S11DEG):\n",
      "  if mean_S11DEG <= 0.15322791039943695:\n",
      "    if mean_S11DEG <= -0.7360658943653107:\n",
      "      if meanFreq_MaxS11 <= -0.13573086261749268:\n",
      "        return 1\n",
      "      elif meanFreq_MaxS11 > -0.13573086261749268\n",
      "        return 2\n",
      "    elif mean_S11DEG > -0.7360658943653107\n",
      "      if meanFreq_MaxS11 <= -0.0023201871663331985:\n",
      "        return 1\n",
      "      elif meanFreq_MaxS11 > -0.0023201871663331985\n",
      "        if meanFreq_MaxS11 <= 0.7378190159797668:\n",
      "          if meanFreq_MaxS11 <= 0.2238979060202837:\n",
      "            return 0\n",
      "          elif meanFreq_MaxS11 > 0.2238979060202837\n",
      "            return 2\n",
      "        elif meanFreq_MaxS11 > 0.7378190159797668\n",
      "          return 1\n",
      "  elif mean_S11DEG > 0.15322791039943695\n",
      "    if meanFreq_MaxS11 <= 0.30510439816862345:\n",
      "      return 0\n",
      "    elif meanFreq_MaxS11 > 0.30510439816862345\n",
      "      if meanFreq_MaxS11 <= 0.76450115442276:\n",
      "        return 2\n",
      "      elif meanFreq_MaxS11 > 0.76450115442276\n",
      "        return 1\n"
     ]
    }
   ],
   "source": [
    "#visulization of the tree rules\n",
    "tree_to_code(pipe_AdaBoost_tree['clf'].estimators_[0].estimators_[31], X.columns[pipe_AdaBoost_tree['feature-selection'].get_support()])"
   ]
  },
  {
   "cell_type": "code",
   "execution_count": 99,
   "metadata": {},
   "outputs": [
    {
     "data": {
      "text/plain": [
       "array([[-1.77462289e-01,  7.49998275e-01],\n",
       "       [-1.77462289e-01,  7.48601878e-01],\n",
       "       [-1.77462289e-01,  7.78356185e-01],\n",
       "       [-1.77462289e-01,  7.58890797e-01],\n",
       "       [-1.77462289e-01,  7.22943640e-01],\n",
       "       [-1.77462289e-01,  7.77954480e-01],\n",
       "       [-1.77462289e-01,  7.94110218e-01],\n",
       "       [-1.77462289e-01,  7.79103209e-01],\n",
       "       [-1.77462289e-01,  8.20745223e-01],\n",
       "       [-1.77462289e-01,  8.79765368e-01],\n",
       "       [-1.91659272e-01,  8.35172322e-01],\n",
       "       [-2.17391304e-01,  6.00961266e-01],\n",
       "       [-2.36024845e-01,  6.23702827e-01],\n",
       "       [-2.60869565e-01,  4.13510976e-01],\n",
       "       [-2.86601597e-01,  8.51589106e-02],\n",
       "       [-2.98136646e-01, -2.12235555e-01],\n",
       "       [-2.98136646e-01, -1.79989271e-01],\n",
       "       [-3.07009760e-01, -5.70063641e-01],\n",
       "       [-3.07897072e-01, -6.23379711e-01],\n",
       "       [-3.07897072e-01, -6.13543607e-01],\n",
       "       [-3.07897072e-01, -6.33459751e-01],\n",
       "       [-3.07897072e-01, -6.35392593e-01],\n",
       "       [-3.07897072e-01, -5.70614418e-01],\n",
       "       [-3.07897072e-01, -5.58621096e-01],\n",
       "       [-3.07897072e-01, -4.91682835e-01],\n",
       "       [-3.07897072e-01, -4.38029719e-01],\n",
       "       [-3.07897072e-01, -4.41405596e-01],\n",
       "       [-3.07897072e-01, -4.09970518e-01],\n",
       "       [-3.07897072e-01, -3.69147357e-01],\n",
       "       [-3.07897072e-01, -3.77999886e-01],\n",
       "       [-3.07897072e-01, -3.32327129e-01],\n",
       "       [-3.07897072e-01, -2.93083229e-01],\n",
       "       [-3.07897072e-01, -3.10176429e-01],\n",
       "       [-3.07897072e-01, -2.65451272e-01],\n",
       "       [-3.07897072e-01, -2.23288727e-01],\n",
       "       [-3.07897072e-01, -2.49604020e-01],\n",
       "       [-3.07897072e-01, -2.24703302e-01],\n",
       "       [-3.07897072e-01, -1.83500859e-01],\n",
       "       [-3.07897072e-01, -2.01364917e-01],\n",
       "       [-3.07897072e-01, -1.52876759e-01],\n",
       "       [-3.07897072e-01, -2.22176329e-01],\n",
       "       [-3.07009760e-01, -2.80152731e-01],\n",
       "       [-3.07009760e-01, -3.22665975e-01],\n",
       "       [-3.07009760e-01, -4.05430221e-01],\n",
       "       [-3.07009760e-01, -5.39757762e-01],\n",
       "       [-3.07897072e-01, -5.68942428e-01],\n",
       "       [-3.07897072e-01, -5.51878230e-01],\n",
       "       [-3.07009760e-01, -5.40810313e-01],\n",
       "       [-2.99911269e-01, -1.75989634e-01],\n",
       "       [-2.94587400e-01,  1.85039654e-01],\n",
       "       [-2.94587400e-01,  2.02948431e-01],\n",
       "       [-2.94587400e-01,  2.34990280e-01],\n",
       "       [-2.96362023e-01,  1.64619318e-01],\n",
       "       [-3.03460515e-01, -1.56111705e-01],\n",
       "       [-3.07897072e-01, -4.57115704e-01],\n",
       "       [-3.07897072e-01, -4.22123694e-01],\n",
       "       [-3.07897072e-01, -3.93517339e-01],\n",
       "       [-3.07897072e-01, -4.19539063e-01],\n",
       "       [-3.07897072e-01, -3.20305125e-01],\n",
       "       [-3.14995563e-01, -6.18205744e-02],\n",
       "       [-3.23868678e-01, -4.29589565e-02],\n",
       "       [-3.32741792e-01,  1.20115101e-01],\n",
       "       [-3.41614907e-01,  4.03099616e-01],\n",
       "       [-3.50488021e-01,  4.37517053e-01],\n",
       "       [-3.51375333e-01,  2.60495937e-01],\n",
       "       [-3.51375333e-01,  2.02920991e-01],\n",
       "       [-3.51375333e-01,  1.45475789e-02],\n",
       "       [-3.44276841e-01,  8.20853106e-02],\n",
       "       [-3.37178350e-01,  2.58108377e-01],\n",
       "       [-3.28305235e-01,  6.87975034e-01],\n",
       "       [-3.22981366e-01,  9.59094365e-01],\n",
       "       [-3.30079858e-01,  1.26075409e+00],\n",
       "       [-3.37178350e-01,  1.08569921e+00],\n",
       "       [-3.45164153e-01,  9.07965580e-01],\n",
       "       [-3.54037267e-01,  6.55470917e-01],\n",
       "       [-3.57586513e-01,  5.50244799e-01],\n",
       "       [-3.51375333e-01,  4.80591935e-01],\n",
       "       [-3.51375333e-01,  5.14822713e-01],\n",
       "       [-3.51375333e-01,  4.39514272e-01],\n",
       "       [-3.51375333e-01,  4.01596243e-01],\n",
       "       [-3.51375333e-01,  3.85155992e-01],\n",
       "       [-3.51375333e-01,  4.56145903e-01],\n",
       "       [-3.51375333e-01,  6.71696631e-01],\n",
       "       [-3.51375333e-01,  9.52715369e-01],\n",
       "       [-3.51375333e-01,  1.21036759e+00],\n",
       "       [-3.54924579e-01,  1.28574493e+00],\n",
       "       [-3.60248447e-01,  1.17109681e+00],\n",
       "       [-3.62910382e-01,  9.48950820e-01],\n",
       "       [-3.62910382e-01,  7.24657006e-01],\n",
       "       [-3.62910382e-01,  5.72675320e-01],\n",
       "       [-3.59361136e-01,  5.35829040e-01],\n",
       "       [-3.54037267e-01,  6.37168055e-01],\n",
       "       [-3.51375333e-01,  7.28284048e-01],\n",
       "       [-3.51375333e-01,  8.07724059e-01],\n",
       "       [-3.51375333e-01,  8.61656438e-01],\n",
       "       [-3.51375333e-01,  9.08923987e-01],\n",
       "       [-3.51375333e-01,  9.76866799e-01],\n",
       "       [-3.56699201e-01,  8.40878947e-01],\n",
       "       [ 3.99290151e-02, -3.63822149e-01],\n",
       "       [ 3.99290151e-02, -3.93782943e-01],\n",
       "       [ 3.99290151e-02, -4.09127429e-01],\n",
       "       [ 3.99290151e-02, -4.41654481e-01],\n",
       "       [ 3.99290151e-02, -4.92600421e-01],\n",
       "       [ 3.99290151e-02, -4.43077667e-01],\n",
       "       [ 3.99290151e-02, -3.85638351e-01],\n",
       "       [ 3.99290151e-02, -3.32100300e-01],\n",
       "       [ 3.99290151e-02, -2.09193443e-01],\n",
       "       [ 3.99290151e-02, -1.11234652e-01],\n",
       "       [ 3.99290151e-02, -1.32764912e-01],\n",
       "       [ 3.99290151e-02, -1.10311782e-01],\n",
       "       [ 3.99290151e-02, -1.00360445e-01],\n",
       "       [ 3.99290151e-02, -1.20635193e-01],\n",
       "       [ 3.99290151e-02, -1.42648689e-01],\n",
       "       [ 3.99290151e-02, -1.39253565e-01],\n",
       "       [ 3.99290151e-02, -1.62445501e-01],\n",
       "       [ 3.99290151e-02, -1.65093367e-01],\n",
       "       [ 3.99290151e-02, -1.44474069e-01],\n",
       "       [ 3.99290151e-02, -1.21062785e-01],\n",
       "       [ 3.99290151e-02, -9.90549224e-02],\n",
       "       [ 3.99290151e-02, -5.14683568e-02],\n",
       "       [ 3.99290151e-02, -1.72756851e-02],\n",
       "       [ 3.99290151e-02, -6.56226565e-04],\n",
       "       [ 3.99290151e-02,  1.45518052e-02],\n",
       "       [ 3.99290151e-02,  1.87648905e-02],\n",
       "       [ 3.99290151e-02,  3.49745046e-03],\n",
       "       [ 3.99290151e-02,  6.56226565e-04],\n",
       "       [ 3.99290151e-02,  6.61937695e-03],\n",
       "       [ 3.99290151e-02,  2.66237850e-02],\n",
       "       [ 3.99290151e-02,  8.51476024e-02],\n",
       "       [ 3.99290151e-02,  1.74419948e-01],\n",
       "       [ 3.99290151e-02,  2.59057431e-01],\n",
       "       [ 3.99290151e-02,  3.27492614e-01],\n",
       "       [ 3.90417036e-02,  3.53169348e-01],\n",
       "       [ 3.54924579e-02,  2.12540197e-01],\n",
       "       [ 3.54924579e-02,  2.16884824e-01],\n",
       "       [ 3.46051464e-02,  1.80415868e-01],\n",
       "       [ 3.46051464e-02,  1.90505586e-01],\n",
       "       [ 3.54924579e-02,  2.18464081e-01],\n",
       "       [ 3.90417036e-02,  3.34864740e-01],\n",
       "       [ 3.90417036e-02,  2.53886124e-01],\n",
       "       [ 3.99290151e-02,  2.12818018e-01],\n",
       "       [ 3.99290151e-02,  1.45477706e-01],\n",
       "       [ 3.99290151e-02,  6.62613263e-02],\n",
       "       [ 3.99290151e-02,  2.78036839e-02],\n",
       "       [ 3.99290151e-02,  1.92541695e-03],\n",
       "       [ 3.99290151e-02,  3.58073575e-03],\n",
       "       [ 3.99290151e-02, -1.55402095e-02],\n",
       "       [ 3.99290151e-02, -1.05770481e-02],\n",
       "       [ 3.99290151e-02,  1.21832620e-02],\n",
       "       [ 3.99290151e-02,  8.49231222e-02],\n",
       "       [ 3.28305235e-02, -2.03411027e-01],\n",
       "       [ 2.75066548e-02, -3.50111848e-01],\n",
       "       [ 1.86335404e-02, -6.98816053e-01],\n",
       "       [ 9.76042591e-03, -1.02185161e+00],\n",
       "       [ 8.87311446e-04, -1.45732540e+00],\n",
       "       [-8.87311446e-04, -1.57374051e+00],\n",
       "       [-3.54924579e-03, -1.74264682e+00],\n",
       "       [-3.54924579e-03, -1.76360346e+00],\n",
       "       [-3.54924579e-03, -1.81620343e+00],\n",
       "       [-3.54924579e-03, -1.82113645e+00],\n",
       "       [-3.54924579e-03, -1.82733584e+00],\n",
       "       [-3.54924579e-03, -1.88544087e+00],\n",
       "       [-2.66193434e-03, -1.87652089e+00],\n",
       "       [-2.66193434e-03, -1.90486504e+00],\n",
       "       [-2.66193434e-03, -1.89623228e+00],\n",
       "       [-2.66193434e-03, -1.85547738e+00],\n",
       "       [-2.66193434e-03, -1.68134221e+00],\n",
       "       [-3.54924579e-03, -1.55911835e+00],\n",
       "       [-3.54924579e-03, -1.39438356e+00],\n",
       "       [-3.54924579e-03, -1.27348523e+00],\n",
       "       [-3.54924579e-03, -1.19885601e+00],\n",
       "       [-3.54924579e-03, -1.19810938e+00],\n",
       "       [-3.54924579e-03, -1.21914281e+00],\n",
       "       [-3.54924579e-03, -1.25246456e+00],\n",
       "       [-3.54924579e-03, -1.21000888e+00],\n",
       "       [-3.54924579e-03, -1.12178375e+00],\n",
       "       [-3.54924579e-03, -1.03587397e+00],\n",
       "       [-3.54924579e-03, -9.10604811e-01],\n",
       "       [-3.54924579e-03, -7.95440504e-01],\n",
       "       [-3.54924579e-03, -7.46721474e-01],\n",
       "       [-3.54924579e-03, -7.06343260e-01],\n",
       "       [-3.54924579e-03, -6.85885594e-01],\n",
       "       [-3.54924579e-03, -6.73961776e-01],\n",
       "       [-3.54924579e-03, -6.49301413e-01],\n",
       "       [-3.54924579e-03, -6.21900597e-01],\n",
       "       [-3.54924579e-03, -5.87013610e-01],\n",
       "       [-3.54924579e-03, -5.63814505e-01],\n",
       "       [-3.54924579e-03, -5.68762347e-01],\n",
       "       [-3.54924579e-03, -5.56479881e-01],\n",
       "       [-3.54924579e-03, -5.72895636e-01],\n",
       "       [-3.54924579e-03, -5.82172648e-01],\n",
       "       [-3.54924579e-03, -5.69444242e-01],\n",
       "       [-3.54924579e-03, -4.15260438e-01],\n",
       "       [ 7.04525288e-01,  4.98711778e-02],\n",
       "       [ 7.09849157e-01,  4.09562111e-01],\n",
       "       [ 7.11623780e-01,  5.29805644e-01],\n",
       "       [ 7.19609583e-01,  1.09033810e+00],\n",
       "       [ 7.26708075e-01,  1.57735633e+00],\n",
       "       [ 7.29370009e-01,  1.74829023e+00],\n",
       "       [ 7.30257320e-01,  1.81021087e+00],\n",
       "       [ 7.34693878e-01,  2.12166644e+00],\n",
       "       [ 7.32919255e-01,  2.00088417e+00],\n",
       "       [ 7.31144632e-01,  1.89401428e+00],\n",
       "       [ 7.28482697e-01,  1.71878316e+00],\n",
       "       [ 7.25820763e-01,  1.54481685e+00],\n",
       "       [ 7.23158829e-01,  1.37062348e+00],\n",
       "       [ 7.24046140e-01,  1.43295682e+00],\n",
       "       [ 7.27595386e-01,  1.68253355e+00],\n",
       "       [ 7.29370009e-01,  1.81951926e+00],\n",
       "       [ 7.32919255e-01,  2.07253009e+00],\n",
       "       [ 7.32919255e-01,  2.08355975e+00],\n",
       "       [ 7.27595386e-01,  1.73456758e+00],\n",
       "       [ 7.23158829e-01,  1.44649456e+00],\n",
       "       [ 7.14285714e-01,  8.41230194e-01],\n",
       "       [ 7.05412600e-01,  2.50752185e-01],\n",
       "       [ 6.99201420e-01, -1.26512750e-01],\n",
       "       [ 7.00976043e-01, -2.35509125e-02],\n",
       "       [ 7.03637977e-01,  1.41644295e-01],\n",
       "       [ 7.07187223e-01,  4.11304534e-01],\n",
       "       [ 7.07187223e-01,  5.24483238e-01],\n",
       "       [ 7.07187223e-01,  9.07006047e-01],\n",
       "       [ 7.00976043e-01,  8.41271813e-01],\n",
       "       [ 6.94764862e-01,  6.18865215e-01],\n",
       "       [ 6.92102928e-01,  5.77715781e-01],\n",
       "       [ 6.92102928e-01,  5.86111774e-01],\n",
       "       [ 6.92102928e-01,  3.06321926e-01],\n",
       "       [ 6.92102928e-01,  1.38945037e-01],\n",
       "       [ 6.92102928e-01,  9.54932812e-02],\n",
       "       [ 6.92102928e-01,  5.07668936e-02],\n",
       "       [ 6.92102928e-01,  2.34954406e-02],\n",
       "       [ 6.92102928e-01, -1.35009645e-02],\n",
       "       [ 6.92102928e-01, -7.19936649e-02],\n",
       "       [ 6.92102928e-01, -1.54399859e-01],\n",
       "       [ 6.94764862e-01, -9.11559837e-02],\n",
       "       [ 6.94764862e-01, -2.38777558e-01],\n",
       "       [ 6.94764862e-01, -3.37817037e-01],\n",
       "       [ 6.94764862e-01, -3.36746494e-01],\n",
       "       [ 6.94764862e-01, -2.46254494e-01],\n",
       "       [ 6.92102928e-01, -3.45823607e-01],\n",
       "       [ 6.92102928e-01, -3.32355323e-01],\n",
       "       [ 6.92102928e-01, -3.72216850e-01],\n",
       "       [ 6.92102928e-01, -5.06021451e-01],\n",
       "       [ 6.92102928e-01, -6.99079471e-01],\n",
       "       [ 6.92990240e-01, -7.60194231e-01],\n",
       "       [ 6.97426797e-01, -4.81842731e-01],\n",
       "       [ 6.98314108e-01, -4.29480934e-01],\n",
       "       [ 6.99201420e-01, -3.60208848e-01],\n",
       "       [ 7.04525288e-01,  2.60988914e-03],\n",
       "       [ 7.05412600e-01,  5.76225888e-02],\n",
       "       [ 7.09849157e-01,  3.63361420e-01],\n",
       "       [ 7.12511091e-01,  5.28031047e-01],\n",
       "       [ 7.19609583e-01,  1.00624874e+00],\n",
       "       [ 7.21384206e-01,  1.13328142e+00],\n",
       "       [ 7.27595386e-01,  1.55827588e+00],\n",
       "       [ 7.27595386e-01,  1.54873354e+00],\n",
       "       [ 7.32919255e-01,  1.90454625e+00],\n",
       "       [ 7.34693878e-01,  2.01496532e+00],\n",
       "       [ 7.35581189e-01,  2.02092539e+00],\n",
       "       [ 7.35581189e-01,  1.99422211e+00],\n",
       "       [ 7.34693878e-01,  1.91648044e+00],\n",
       "       [ 7.32031943e-01,  1.77181756e+00],\n",
       "       [ 7.23158829e-01,  1.25592138e+00],\n",
       "       [ 7.14285714e-01,  7.36973126e-01],\n",
       "       [ 7.05412600e-01,  1.94854251e-01],\n",
       "       [ 6.97426797e-01, -3.16195701e-01],\n",
       "       [ 6.92102928e-01, -7.03879369e-01],\n",
       "       [ 6.92102928e-01, -7.65912807e-01],\n",
       "       [ 6.92102928e-01, -8.12159725e-01],\n",
       "       [ 6.95652174e-01, -6.07695952e-01],\n",
       "       [ 7.04525288e-01, -8.46278263e-03],\n",
       "       [ 7.10736469e-01,  4.03990885e-01],\n",
       "       [ 7.19609583e-01,  1.01118749e+00]])"
      ]
     },
     "execution_count": 99,
     "metadata": {},
     "output_type": "execute_result"
    }
   ],
   "source": [
    "scaler.fit_transform(X_test[[X.columns[pipe_AdaBoost_tree['feature-selection'].get_support()][0], X.columns[pipe_AdaBoost_tree['feature-selection'].get_support()][1]]])"
   ]
  },
  {
   "cell_type": "code",
   "execution_count": 101,
   "metadata": {},
   "outputs": [
    {
     "name": "stdout",
     "output_type": "stream",
     "text": [
      "meanFreq_MaxS11\n",
      "mean_S11DEG\n"
     ]
    }
   ],
   "source": [
    "feature1 = X.columns[pipe_AdaBoost_tree['feature-selection'].get_support()][0]\n",
    "feature2 = X.columns[pipe_AdaBoost_tree['feature-selection'].get_support()][1]\n",
    "print(feature1)\n",
    "print(feature2)"
   ]
  },
  {
   "cell_type": "code",
   "execution_count": 102,
   "metadata": {},
   "outputs": [
    {
     "name": "stdout",
     "output_type": "stream",
     "text": [
      "            0         1\n",
      "0   -0.177462  0.749998\n",
      "1   -0.177462  0.748602\n",
      "2   -0.177462  0.778356\n",
      "3   -0.177462  0.758891\n",
      "4   -0.177462  0.722944\n",
      "..        ...       ...\n",
      "267  0.692103 -0.812160\n",
      "268  0.695652 -0.607696\n",
      "269  0.704525 -0.008463\n",
      "270  0.710736  0.403991\n",
      "271  0.719610  1.011187\n",
      "\n",
      "[272 rows x 2 columns]\n"
     ]
    }
   ],
   "source": [
    "feature1 = X.columns[pipe_AdaBoost_tree['feature-selection'].get_support()][0]\n",
    "feature2 = X.columns[pipe_AdaBoost_tree['feature-selection'].get_support()][1]\n",
    "tree_test = X_test[[feature1, feature2]]\n",
    "tree_test_scaled = pd.DataFrame(scaler.fit_transform(tree_test))\n",
    "print(tree_test_scaled)"
   ]
  },
  {
   "cell_type": "code",
   "execution_count": 105,
   "metadata": {},
   "outputs": [
    {
     "name": "stdout",
     "output_type": "stream",
     "text": [
      "[[52 46  0]\n",
      " [55 13 27]\n",
      " [ 0  0 79]]\n"
     ]
    }
   ],
   "source": [
    "y_pred_tree = pipe_AdaBoost_tree['clf'].estimators_[0].estimators_[31].predict(tree_test_scaled)\n",
    "cm = confusion_matrix(y_test, y_pred_tree)"
   ]
  },
  {
   "cell_type": "code",
   "execution_count": 90,
   "metadata": {},
   "outputs": [],
   "source": [
    "#scale the lorenzo dataset to confront it agaist the tree rules\n",
    "columns = ds[(ds['Tester'] == 'Lorenzo')].drop(columns=['Class', 'Tester']).columns\n",
    "class_col = ds[(ds['Tester'] == 'Lorenzo')]['Class']\n",
    "\n",
    "scaled_lorenzo = pd.DataFrame(scaler.fit_transform(ds[(ds['Tester'] == 'Lorenzo')].drop(columns=['Class', 'Tester'])))\n",
    "scaled_lorenzo.columns = columns\n",
    "scaled_lorenzo['Class'] = class_col"
   ]
  },
  {
   "cell_type": "code",
   "execution_count": 91,
   "metadata": {},
   "outputs": [
    {
     "name": "stderr",
     "output_type": "stream",
     "text": [
      "C:\\Users\\Emanuele\\AppData\\Local\\Temp\\ipykernel_2840\\1958947934.py:14: MatplotlibDeprecationWarning: The get_cmap function was deprecated in Matplotlib 3.7 and will be removed two minor releases later. Use ``matplotlib.colormaps[name]`` or ``matplotlib.colormaps.get_cmap(obj)`` instead.\n",
      "  colors = plt.cm.get_cmap('jet', len(unique))\n"
     ]
    },
    {
     "data": {
      "image/png": "[encoded data removed]",
      "text/plain": [
       "<Figure size 640x480 with 1 Axes>"
      ]
     },
     "metadata": {},
     "output_type": "display_data"
    }
   ],
   "source": [
    "var1 = X.columns[pipe_AdaBoost['feature-selection'].get_support()][0]\n",
    "var2 = X.columns[pipe_AdaBoost['feature-selection'].get_support()][1]\n",
    "\n",
    "scatter_plot(scaled_lorenzo, var1, var2, 'Lorenzo')"
   ]
  },
  {
   "cell_type": "code",
   "execution_count": null,
   "metadata": {},
   "outputs": [],
   "source": []
  }
 ],
 "metadata": {
  "kernelspec": {
   "display_name": "base",
   "language": "python",
   "name": "python3"
  },
  "language_info": {
   "codemirror_mode": {
    "name": "ipython",
    "version": 3
   },
   "file_extension": ".py",
   "mimetype": "text/x-python",
   "name": "python",
   "nbconvert_exporter": "python",
   "pygments_lexer": "ipython3",
   "version": "3.10.9"
  }
 },
 "nbformat": 4,
 "nbformat_minor": 2
}
