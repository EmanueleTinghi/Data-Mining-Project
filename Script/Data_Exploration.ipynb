{
 "cells": [
  {
   "cell_type": "code",
   "execution_count": null,
   "metadata": {},
   "outputs": [],
   "source": [
    "import pandas as pd\n",
    "import numpy as np\n",
    "import os\n",
    "from matplotlib import pyplot as plt\n",
    "from numpy.polynomial import Polynomial"
   ]
  },
  {
   "cell_type": "markdown",
   "metadata": {},
   "source": [
    "---\n",
    "__UTILITY FUNCTIONS__\n",
    "\n",
    "---"
   ]
  },
  {
   "cell_type": "code",
   "execution_count": null,
   "metadata": {},
   "outputs": [],
   "source": [
    "def plot_single_sample(df):\n",
    "    fig, axs = plt.subplots(2, 1, figsize=(8, 8))\n",
    "\n",
    "    # Plot S11 and S22 magnitude vs. frequency\n",
    "    df.plot(x='Freq(Hz)', y=['S11(DB)', 'S22(DB)'], kind='line', ax=axs[0], label=['S11 Magnitude (dB)', 'S22 Magnitude (dB)'])\n",
    "\n",
    "    # Add labels and title for the first subplot\n",
    "    axs[0].set_xlabel('Frequency (Hz)')\n",
    "    axs[0].set_ylabel('Magnitude (dB)')\n",
    "    axs[0].set_title('S11 and S22 Magnitude vs. Frequency')\n",
    "    axs[0].legend()\n",
    "\n",
    "    # Plot S11 and S22 phase vs. frequency\n",
    "    df.plot(x='Freq(Hz)', y=['S11(DEG)', 'S22(DEG)'], kind='line', ax=axs[1], label=['S11 Phase (DEG)', 'S22 Phase (DEG)'])\n",
    "\n",
    "    # Add labels and title for the second subplot\n",
    "    axs[1].set_xlabel('Frequency (Hz)')\n",
    "    axs[1].set_ylabel('Phase (DEG)')\n",
    "    axs[1].set_title('S11 and S22 Phase vs. Frequency')\n",
    "    axs[1].legend()\n",
    "\n",
    "    plt.tight_layout()\n",
    "    plt.show()"
   ]
  },
  {
   "cell_type": "code",
   "execution_count": null,
   "metadata": {},
   "outputs": [],
   "source": [
    "def plot_four_samples(df1, label1, df2, label2, df3, label3, df4, label4):\n",
    "    fig, axs = plt.subplots(2, 2, figsize=(20, 12))\n",
    "\n",
    "    #plots of S11(DB)\n",
    "    df1.plot(x='Freq(Hz)', y='S11(DB)', kind='line', ax=axs[0,0], label=str(label1), color='blue')\n",
    "    df2.plot(x='Freq(Hz)', y='S11(DB)', kind='line', ax=axs[0,0], label=str(label2), color='green')\n",
    "    df3.plot(x='Freq(Hz)', y='S11(DB)', kind='line', ax=axs[0,0], label=str(label3), color='red')\n",
    "    df4.plot(x='Freq(Hz)', y='S11(DB)', kind='line', ax=axs[0,0], label=str(label4), color='pink')\n",
    "\n",
    "    #plots of S22(DB)\n",
    "    df1.plot(x='Freq(Hz)', y='S22(DB)', kind='line', ax=axs[0,1], label=str(label1), color='blue')\n",
    "    df2.plot(x='Freq(Hz)', y='S22(DB)', kind='line', ax=axs[0,1], label=str(label2), color='green')\n",
    "    df3.plot(x='Freq(Hz)', y='S22(DB)', kind='line', ax=axs[0,1], label=str(label3), color='red')\n",
    "    df4.plot(x='Freq(Hz)', y='S22(DB)', kind='line', ax=axs[0,1], label=str(label4), color='pink')\n",
    "\n",
    "    #plots of S11(DEG)\n",
    "    df1.plot(x='Freq(Hz)', y='S11(DEG)', kind='line', ax=axs[1,0], label=str(label1), color='blue')\n",
    "    df2.plot(x='Freq(Hz)', y='S11(DEG)', kind='line', ax=axs[1,0], label=str(label2), color='green')\n",
    "    df3.plot(x='Freq(Hz)', y='S11(DEG)', kind='line', ax=axs[1,0], label=str(label3), color='red')\n",
    "    df4.plot(x='Freq(Hz)', y='S11(DEG)', kind='line', ax=axs[1,0], label=str(label4), color='pink')\n",
    "\n",
    "    #plots of S22(DEG)\n",
    "    df1.plot(x='Freq(Hz)', y='S22(DEG)', kind='line', ax=axs[1,1], label=str(label1), color='blue')\n",
    "    df2.plot(x='Freq(Hz)', y='S22(DEG)', kind='line', ax=axs[1,1], label=str(label2), color='green')\n",
    "    df3.plot(x='Freq(Hz)', y='S22(DEG)', kind='line', ax=axs[1,1], label=str(label3), color='red')\n",
    "    df4.plot(x='Freq(Hz)', y='S22(DEG)', kind='line', ax=axs[1,1], label=str(label4), color='pink')\n",
    "\n",
    "\n",
    "    # Add labels and title\n",
    "    axs[0, 0].set_xlabel('Frequency (Hz)')\n",
    "    axs[0, 0].set_ylabel('Magnitude (dB)')\n",
    "    axs[0, 0].set_title('S11 Magnitude vs. Frequency for Testers')\n",
    "\n",
    "    axs[0, 1].set_xlabel('Frequency (Hz)')\n",
    "    axs[0, 1].set_ylabel('Magnitude (dB)')\n",
    "    axs[0, 1].set_title('S22 Magnitude vs. Frequency for Testers')\n",
    "\n",
    "    axs[1, 0].set_xlabel('Frequency (Hz)')\n",
    "    axs[1, 0].set_ylabel('Magnitude (DEG)')\n",
    "    axs[1, 0].set_title('S11 DEG vs. Frequency for Testers')\n",
    "\n",
    "    axs[1, 1].set_xlabel('Frequency (Hz)')\n",
    "    axs[1, 1].set_ylabel('Magnitude (DEG)')\n",
    "    axs[1, 1].set_title('S22 DEG vs. Frequency for Testers')    \n",
    "\n",
    "    plt.show()"
   ]
  },
  {
   "cell_type": "code",
   "execution_count": null,
   "metadata": {},
   "outputs": [],
   "source": [
    "def prepare_data_for_plot_imShow(path, variable):\n",
    "    rows_to_skip = 6\n",
    "    number_of_files = len(os.listdir(path))\n",
    "    plotinfo = pd.DataFrame()\n",
    "\n",
    "    #iterate over all the files in the folder\n",
    "    for i in range(1, number_of_files + 1):\n",
    "        file_path = os.path.join(path, f\"Data ({i}).csv\")\n",
    "\n",
    "        if os.path.exists(file_path):\n",
    "            df = pd.read_csv(file_path, skiprows=rows_to_skip).dropna()\n",
    "\n",
    "            intensities = df[variable].values\n",
    "            #creating a dataframe where every intensity value is inside a column representing the frequency at which the value was extracted\n",
    "            temp_df = pd.DataFrame([intensities], columns=[f'{i}' for i in df['Freq(Hz)']])\n",
    "\n",
    "        plotinfo = pd.concat([plotinfo, temp_df], ignore_index=True)\n",
    "\n",
    "    return plotinfo"
   ]
  },
  {
   "cell_type": "code",
   "execution_count": null,
   "metadata": {},
   "outputs": [],
   "source": [
    "def heat_map_plot(path, variable):\n",
    "    fig, axes = plt.subplots(nrows=4, ncols=1, figsize=(20, 15), sharex=True, sharey=True)\n",
    "\n",
    "    axes[-1].set_xlabel('Frequency')\n",
    "    axes[-1].set_ylabel('Instants')\n",
    "\n",
    "    # Iterate through testers\n",
    "    testers = ['Leo', 'Lorenzo', 'Carlotta', 'Irene']\n",
    "\n",
    "    for i, tester in enumerate(testers):\n",
    "        # Load data for the chosen tester and variable\n",
    "        data_frames = prepare_data_for_plot_imShow(path + str(tester), variable)\n",
    "\n",
    "        # Set common x-axis labels using specific frequencies\n",
    "        freq_values = np.arange(1, 6)  # 1GHz to 5GHz\n",
    "        freq_indices = np.linspace(0, len(data_frames.columns) - 1, len(freq_values), dtype=int)\n",
    "        \n",
    "        # Display the image using imshow\n",
    "        im = axes[i].imshow(data_frames.values, cmap='viridis', aspect='auto')\n",
    "        axes[i].set_xticks(freq_indices)\n",
    "        axes[i].set_xticklabels([f'{freq}GHz' for freq in freq_values])\n",
    "\n",
    "        # Set y-axis label and title\n",
    "        axes[i].set_ylabel(f'{tester}')\n",
    "\n",
    "    # Create a colorbar\n",
    "    cbar = fig.colorbar(im, ax=axes.ravel().tolist(), orientation='vertical', fraction=0.02, pad=0.1)\n",
    "    cbar.set_label('Intensity', rotation=270, labelpad=15)\n",
    "\n",
    "    # Show the plot\n",
    "    plt.show()"
   ]
  },
  {
   "cell_type": "markdown",
   "metadata": {},
   "source": [
    "---\n",
    "__SINGLE SAMPLE__\n",
    "\n",
    "---"
   ]
  },
  {
   "cell_type": "code",
   "execution_count": null,
   "metadata": {},
   "outputs": [],
   "source": [
    "#example of use of plot_single_sample\n",
    "rows_to_skip = 6\n",
    "position = \"Right\"\n",
    "tester = \"Irene\"\n",
    "file = \"Data (1).csv\"\n",
    "df = pd.read_csv(\"./../Dati/\" + position + \"/\" + tester + \"/\" + file, skiprows=rows_to_skip)\n",
    "\n",
    "plot_single_sample(df)"
   ]
  },
  {
   "cell_type": "markdown",
   "metadata": {},
   "source": [
    "---\n",
    "__MULTIPLE SAMPLES__\n",
    "\n",
    "---"
   ]
  },
  {
   "cell_type": "code",
   "execution_count": null,
   "metadata": {},
   "outputs": [],
   "source": [
    "rows_to_skip = 6\n",
    "position = \"Right\"\n",
    "df1 = pd.read_csv(\"./../Dati/\" + str(position) + \"/Lorenzo/Data (984).csv\", skiprows=rows_to_skip)\n",
    "df2 = pd.read_csv(\"./../Dati/\" + str(position) + \"/Irene/Data (98).csv\", skiprows=rows_to_skip)\n",
    "df3 = pd.read_csv(\"./../Dati/\" + str(position) + \"/Carlotta/Data (48).csv\", skiprows=rows_to_skip)\n",
    "df4 = pd.read_csv(\"./../Dati/\" + str(position) + \"/Leo/Data (522).csv\", skiprows=rows_to_skip)\n",
    "\n",
    "plot_four_samples(df1, \"Lorenzo-\" + str(position), df2, \"Irene-\" + str(position), df3, \"Carlotta-\" + str(position), df4, \"Leo-\" + str(position))"
   ]
  },
  {
   "cell_type": "markdown",
   "metadata": {},
   "source": [
    "---\n",
    "__HEAT MAPS__\n",
    "\n",
    "---"
   ]
  },
  {
   "cell_type": "code",
   "execution_count": null,
   "metadata": {},
   "outputs": [],
   "source": [
    "# Choose the variables to be plotted\n",
    "variable = 'S11(DB)'\n",
    "path = \"./../Dati/Left/\"\n",
    "\n",
    "heat_map_plot(path, variable)"
   ]
  },
  {
   "cell_type": "markdown",
   "metadata": {},
   "source": [
    "---\n",
    "__SMOOTHING__\n",
    "\n",
    "---"
   ]
  },
  {
   "cell_type": "markdown",
   "metadata": {},
   "source": [
    "Test for residuals of polynomial fit"
   ]
  },
  {
   "cell_type": "code",
   "execution_count": null,
   "metadata": {},
   "outputs": [],
   "source": [
    "# Load the CSV file\n",
    "filter_test = pd.read_csv(\"./../Dati/Centered/Carlotta/Data (1000).csv\", skiprows=6).dropna()\n",
    "\n",
    "x_axis = 'Freq(Hz)'\n",
    "y_axis = 'S11(DB)'\n",
    "\n",
    "# Explicitly create a copy of the subset DataFrame\n",
    "temp_df = filter_test[[x_axis, y_axis]].copy()\n",
    "\n",
    "# Convert 'Freq(Hz)' to float and 'S22(DEG)' to float using df[df.columns[i]] = newvals\n",
    "temp_df[temp_df.columns[0]] = temp_df[x_axis].astype(np.int64)\n",
    "temp_df[temp_df.columns[1]] = temp_df[y_axis].astype(float)\n",
    "\n",
    "# Fit a polynomial of a certain degree\n",
    "degree = 5\n",
    "coefficients = np.polyfit(temp_df[x_axis], temp_df[y_axis], degree)\n",
    "fitted_polynomial = Polynomial(coefficients)\n",
    "\n",
    "# Calculate residuals\n",
    "residuals = temp_df[y_axis] - fitted_polynomial(temp_df[x_axis])\n",
    "\n",
    "# Plot residuals\n",
    "plt.scatter(temp_df[x_axis], residuals, label='Residuals')\n",
    "plt.axhline(0, color='red', linestyle='--', label='Zero Residuals')\n",
    "plt.xlabel(x_axis)\n",
    "plt.ylabel('Residuals')\n",
    "plt.legend()\n",
    "plt.title('Residuals of Polynomial Fit')\n",
    "plt.show()"
   ]
  },
  {
   "cell_type": "markdown",
   "metadata": {},
   "source": [
    "Simple Moving Average"
   ]
  },
  {
   "cell_type": "code",
   "execution_count": null,
   "metadata": {},
   "outputs": [],
   "source": [
    "# Load the CSV file\n",
    "filter_test = pd.read_csv(\"./../Dati/Left/Irene/Data (100).csv\", skiprows=6).dropna()\n",
    "\n",
    "x_axis = 'Freq(Hz)'\n",
    "y_axis = 'S11(DB)'\n",
    "\n",
    "# Explicitly create a copy of the subset DataFrame\n",
    "temp_df = filter_test[[x_axis, y_axis]].copy()\n",
    "\n",
    "# Convert 'Freq(Hz)' to float and 'S22(DEG)' to float using df[df.columns[i]] = newvals\n",
    "temp_df[temp_df.columns[0]] = temp_df[x_axis].astype(np.int64)\n",
    "temp_df[temp_df.columns[1]] = temp_df[y_axis].astype(float)\n",
    "\n",
    "# Apply Simple Moving Average (SMA)\n",
    "window_size = 30\n",
    "temp_df['SMA'] = temp_df[y_axis].rolling(window=window_size, min_periods=1).mean()\n",
    "\n",
    "# Plot the original data and SMA\n",
    "plt.scatter(temp_df[x_axis], temp_df[y_axis], label='Original Data')\n",
    "plt.plot(temp_df[x_axis], temp_df['SMA'], label=f'SMA (window={window_size})', color='red', linewidth=2)\n",
    "plt.xlabel(x_axis)\n",
    "plt.ylabel(y_axis)\n",
    "plt.legend()\n",
    "plt.title('Simple Moving Average (SMA)')\n",
    "plt.show()"
   ]
  },
  {
   "cell_type": "markdown",
   "metadata": {},
   "source": [
    "Exponential Moving Average"
   ]
  },
  {
   "cell_type": "code",
   "execution_count": null,
   "metadata": {},
   "outputs": [],
   "source": [
    "# Load the CSV file\n",
    "filter_test = pd.read_csv(\"./../Dati/Left/Irene/Data (100).csv\", skiprows=6).dropna()\n",
    "\n",
    "x_axis = 'Freq(Hz)'\n",
    "y_axis = 'S11(DB)'\n",
    "\n",
    "# Explicitly create a copy of the subset DataFrame\n",
    "temp_df = filter_test[[x_axis, y_axis]].copy()\n",
    "\n",
    "# Convert 'Freq(Hz)' to float and 'S22(DEG)' to float using df[df.columns[i]] = newvals\n",
    "temp_df[temp_df.columns[0]] = temp_df[x_axis].astype(np.int64)\n",
    "temp_df[temp_df.columns[1]] = temp_df[y_axis].astype(float)\n",
    "\n",
    "# Apply Exponential Moving Average (EMA)\n",
    "span = 20\n",
    "temp_df['EMA'] = temp_df[y_axis].ewm(span=span, adjust=False).mean()\n",
    "\n",
    "# Plot the original data and EMA\n",
    "plt.scatter(temp_df[x_axis], temp_df[y_axis], label='Original Data')\n",
    "plt.plot(temp_df[x_axis], temp_df['EMA'], label=f'EMA (span={span})', color='red', linewidth=2)\n",
    "plt.xlabel(x_axis)\n",
    "plt.ylabel(y_axis)\n",
    "plt.legend()\n",
    "plt.title('Exponential Moving Average (EMA)')\n",
    "plt.show()"
   ]
  },
  {
   "cell_type": "code",
   "execution_count": null,
   "metadata": {},
   "outputs": [],
   "source": [
    "# Load the CSV file\n",
    "filter_test = pd.read_csv(\"./../Dati/Left/Irene/Data (100).csv\", skiprows=6).dropna()\n",
    "\n",
    "x_axis = 'Freq(Hz)'\n",
    "y_axis = 'S22(DEG)'\n",
    "\n",
    "# Explicitly create a copy of the subset DataFrame\n",
    "temp_df = filter_test[[x_axis, y_axis]].copy()\n",
    "\n",
    "# Convert 'Freq(Hz)' to float and 'S22(DEG)' to float using df[df.columns[i]] = newvals\n",
    "temp_df[temp_df.columns[0]] = temp_df[x_axis].astype(np.int64)\n",
    "temp_df[temp_df.columns[1]] = temp_df[y_axis].astype(float)\n",
    "\n",
    "# Apply Exponential Moving Average (EMA)\n",
    "span = 20\n",
    "temp_df['EMA'] = temp_df[y_axis].ewm(span=span, adjust=False).mean()\n",
    "\n",
    "# Plot the original data and EMA\n",
    "plt.scatter(temp_df[x_axis], temp_df[y_axis], label='Original Data')\n",
    "plt.plot(temp_df[x_axis], temp_df['EMA'], label=f'EMA (span={span})', color='red', linewidth=2)\n",
    "plt.xlabel(x_axis)\n",
    "plt.ylabel(y_axis)\n",
    "plt.legend()\n",
    "plt.title('Exponential Moving Average (EMA)')\n",
    "plt.show()"
   ]
  },
  {
   "cell_type": "code",
   "execution_count": null,
   "metadata": {},
   "outputs": [],
   "source": []
  }
 ],
 "metadata": {
  "kernelspec": {
   "display_name": "base",
   "language": "python",
   "name": "python3"
  },
  "language_info": {
   "codemirror_mode": {
    "name": "ipython",
    "version": 3
   },
   "file_extension": ".py",
   "mimetype": "text/x-python",
   "name": "python",
   "nbconvert_exporter": "python",
   "pygments_lexer": "ipython3",
   "version": "3.10.9"
  }
 },
 "nbformat": 4,
 "nbformat_minor": 2
}
